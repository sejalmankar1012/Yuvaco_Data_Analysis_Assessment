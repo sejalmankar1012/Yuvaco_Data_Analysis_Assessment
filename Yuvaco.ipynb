{
  "nbformat": 4,
  "nbformat_minor": 0,
  "metadata": {
    "colab": {
      "provenance": []
    },
    "kernelspec": {
      "name": "python3",
      "display_name": "Python 3"
    },
    "language_info": {
      "name": "python"
    }
  },
  "cells": [
    {
      "cell_type": "code",
      "execution_count": 1,
      "metadata": {
        "id": "Ln3crQO9BHhs"
      },
      "outputs": [],
      "source": [
        "# Sample Data\n",
        "data = [\n",
        "    {'Package ID': 1, 'Weight (kg)': 3, 'Distance (km)': 10, 'Delivery Type': 'Express'},\n",
        "    {'Package ID': 2, 'Weight (kg)': 5, 'Distance (km)': 25, 'Delivery Type': 'Standard'},\n",
        "    {'Package ID': 3, 'Weight (kg)': 2, 'Distance (km)': 5, 'Delivery Type': 'Express'},\n",
        "    {'Package ID': 4, 'Weight (kg)': 6, 'Distance (km)': 15, 'Delivery Type': 'Standard'},\n",
        "    {'Package ID': 5, 'Weight (kg)': 4, 'Distance (km)': 30, 'Delivery Type': 'Express'},\n",
        "]"
      ]
    },
    {
      "cell_type": "code",
      "source": [
        "\n",
        "# Cost grid\n",
        "cost_grid = {\n",
        "    'Express': {\n",
        "        'Base Cost': 10,\n",
        "        'Cost per kg': 2,\n",
        "        'Cost per km': 1,\n",
        "    },\n",
        "    'Standard': {\n",
        "        'Base Cost': 5,\n",
        "        'Cost per kg': 1.5,\n",
        "        'Cost per km': 0.5,\n",
        "    }\n",
        "}"
      ],
      "metadata": {
        "id": "b89n8UObBtFW"
      },
      "execution_count": 2,
      "outputs": []
    },
    {
      "cell_type": "code",
      "source": [
        "# Calculate cost for each package\n",
        "for package in data:\n",
        "    delivery_type = package['Delivery Type']\n",
        "    base_cost = cost_grid[delivery_type]['Base Cost']\n",
        "    cost_per_kg = cost_grid[delivery_type]['Cost per kg']\n",
        "    cost_per_km = cost_grid[delivery_type]['Cost per km']\n",
        "\n",
        "    weight = package['Weight (kg)']\n",
        "    distance = package['Distance (km)']\n",
        "\n",
        "    total_cost = base_cost + (weight * cost_per_kg) + (distance * cost_per_km)\n",
        "\n",
        "    package['Total Cost'] = total_cost"
      ],
      "metadata": {
        "id": "W4q1AFiQB1B0"
      },
      "execution_count": 3,
      "outputs": []
    },
    {
      "cell_type": "code",
      "source": [
        "# Save the updated data to an output file\n",
        "output_filename = 'package_costs.csv'\n",
        "with open(output_filename, 'w') as f:\n",
        "    # Write header\n",
        "    header = ['Package ID', 'Weight (kg)', 'Distance (km)', 'Delivery Type', 'Total Cost']\n",
        "    f.write(','.join(header) + '\\n')\n",
        "\n",
        "    # Write data\n",
        "    for package in data:\n",
        "        package_data = [str(package[key]) for key in header]\n",
        "        f.write(','.join(package_data) + '\\n')\n"
      ],
      "metadata": {
        "id": "PfToPh7mB4Gy"
      },
      "execution_count": 4,
      "outputs": []
    },
    {
      "cell_type": "code",
      "source": [
        "# Print the updated data\n",
        "for package in data:\n",
        "    print(package)\n",
        "\n",
        "print(\"Output saved as\", output_filename)"
      ],
      "metadata": {
        "colab": {
          "base_uri": "https://localhost:8080/"
        },
        "id": "_Sp3xK_gB6-M",
        "outputId": "74300983-4fb5-4e47-afde-716888c8f656"
      },
      "execution_count": 5,
      "outputs": [
        {
          "output_type": "stream",
          "name": "stdout",
          "text": [
            "{'Package ID': 1, 'Weight (kg)': 3, 'Distance (km)': 10, 'Delivery Type': 'Express', 'Total Cost': 26}\n",
            "{'Package ID': 2, 'Weight (kg)': 5, 'Distance (km)': 25, 'Delivery Type': 'Standard', 'Total Cost': 25.0}\n",
            "{'Package ID': 3, 'Weight (kg)': 2, 'Distance (km)': 5, 'Delivery Type': 'Express', 'Total Cost': 19}\n",
            "{'Package ID': 4, 'Weight (kg)': 6, 'Distance (km)': 15, 'Delivery Type': 'Standard', 'Total Cost': 21.5}\n",
            "{'Package ID': 5, 'Weight (kg)': 4, 'Distance (km)': 30, 'Delivery Type': 'Express', 'Total Cost': 48}\n",
            "Output saved as package_costs.csv\n"
          ]
        }
      ]
    },
    {
      "cell_type": "code",
      "source": [],
      "metadata": {
        "id": "0O3DLGbdB-8y"
      },
      "execution_count": null,
      "outputs": []
    }
  ]
}